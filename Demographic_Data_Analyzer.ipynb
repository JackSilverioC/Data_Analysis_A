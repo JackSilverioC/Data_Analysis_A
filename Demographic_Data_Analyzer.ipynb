{
  "nbformat": 4,
  "nbformat_minor": 0,
  "metadata": {
    "colab": {
      "provenance": [],
      "authorship_tag": "ABX9TyMKYnU+jBEVZXWzuKDWqlkk",
      "include_colab_link": true
    },
    "kernelspec": {
      "name": "python3",
      "display_name": "Python 3"
    },
    "language_info": {
      "name": "python"
    }
  },
  "cells": [
    {
      "cell_type": "markdown",
      "metadata": {
        "id": "view-in-github",
        "colab_type": "text"
      },
      "source": [
        "<a href=\"https://colab.research.google.com/github/UsserJack/Data_Analysis_A/blob/main/Demographic_Data_Analyzer.ipynb\" target=\"_parent\"><img src=\"https://colab.research.google.com/assets/colab-badge.svg\" alt=\"Open In Colab\"/></a>"
      ]
    },
    {
      "cell_type": "markdown",
      "source": [
        "Datos a usar: \"Adult Data\""
      ],
      "metadata": {
        "id": "u_TOYraOSy9P"
      }
    },
    {
      "cell_type": "markdown",
      "source": [
        "Analizar datos demográficos usando Pandas. Se proporciona un conjunto de datos demográficos extraídos de la base de datos del censo de 1994. Aquí hay una muestra de cómo se ven los datos:\n",
        "\n",
        "```\n",
        "|    |   age | workclass        |   fnlwgt | education   |   education-num | marital-status     | occupation        | relationship   | race   | sex    |   capital-gain |   capital-loss |   hours-per-week | native-country   | salary   |\n",
        "|---:|------:|:-----------------|---------:|:------------|----------------:|:-------------------|:------------------|:---------------|:-------|:-------|---------------:|---------------:|-----------------:|:-----------------|:---------|\n",
        "|  0 |    39 | State-gov        |    77516 | Bachelors   |              13 | Never-married      | Adm-clerical      | Not-in-family  | White  | Male   |           2174 |              0 |               40 | United-States    | <=50K    |\n",
        "|  1 |    50 | Self-emp-not-inc |    83311 | Bachelors   |              13 | Married-civ-spouse | Exec-managerial   | Husband        | White  | Male   |              0 |              0 |               13 | United-States    | <=50K    |\n",
        "|  2 |    38 | Private          |   215646 | HS-grad     |               9 | Divorced           | Handlers-cleaners | Not-in-family  | White  | Male   |              0 |              0 |               40 | United-States    | <=50K    |\n",
        "|  3 |    53 | Private          |   234721 | 11th        |               7 | Married-civ-spouse | Handlers-cleaners | Husband        | Black  | Male   |              0 |              0 |               40 | United-States    | <=50K    |\n",
        "|  4 |    28 | Private          |   338409 | Bachelors   |              13 | Married-civ-spouse | Prof-specialty    | Wife           | Black  | Female |              0 |              0 |               40 | Cuba             | <=50K    |\n",
        "```\n",
        "Debes usar Pandas para responder las siguientes preguntas:\n",
        "* ¿Cuántas personas de cada raza están representadas en este conjunto de datos? \n",
        "* ¿Cuál es la edad promedio de los hombres?\n",
        "* ¿Cuál es el porcentaje de personas que tienen una licenciatura?\n",
        "* ¿Qué porcentaje de personas con educación avanzada (Licenciatura, Maestría o Doctorado) ganan más de 50K?\n",
        "* ¿Qué porcentaje de personas sin educación avanzada ganan más de 50K?\n",
        "* ¿Cuál es el número mínimo de horas que una persona trabaja por semana?\n",
        "* ¿Qué porcentaje de las personas que trabajan el número mínimo de horas por semana tienen un salario de más de 50K?\n",
        "* ¿Qué país tiene el porcentaje más alto de personas que ganan >50K y cuál es ese porcentaje?\n",
        "* Identifique la ocupación más popular para aquellos que ganan >50K en India."
      ],
      "metadata": {
        "id": "x9xujTL7SKVL"
      }
    },
    {
      "cell_type": "code",
      "source": [
        "import pandas as pd"
      ],
      "metadata": {
        "id": "wqMtYi6bcEyL"
      },
      "execution_count": 2,
      "outputs": []
    },
    {
      "cell_type": "code",
      "source": [
        "def calculate_demographic_data(print_data=True):\n",
        "    # Read data from file\n",
        "    df = pd.read_csv('adult.data.csv')\n",
        "\n",
        "    # How many of each race are represented in this dataset? This should be a Pandas series with race names as the index labels.\n",
        "    race_count = df['race'].value_counts()\n",
        "\n",
        "    # What is the average age of men?\n",
        "    average_age_men = round(df.loc[df['sex'] == 'Male','age'].mean(),1)\n",
        "\n",
        "    # What is the percentage of people who have a Bachelor's degree?\n",
        "    percentage_bachelors = round((df.loc[df['education'] == 'Bachelors',].shape[0]) / (df['education'].shape[0]) * 100,1)\n",
        "\n",
        "    # What percentage of people with advanced education (`Bachelors`, `Masters`, or `Doctorate`) make more than 50K?\n",
        "    # What percentage of people without advanced education make more than 50K?\n",
        "\n",
        "    # with and without `Bachelors`, `Masters`, or `Doctorate`\n",
        "    higher_education = round(df.loc[(df['education'] == 'Bachelors') \n",
        "                              | (df['education'] =='Masters') \n",
        "                              | (df['education'] =='Doctorate')].shape[0] \n",
        "                              / df['education'].shape[0] * 100,1)\n",
        "    \n",
        "    lower_education = round(df.loc[(df['education'] != 'Bachelors') \n",
        "                              & (df['education'] != 'Masters') \n",
        "                              & (df['education'] !='Doctorate')].shape[0] \n",
        "                              / df['education'].shape[0] * 100,1)\n",
        "\n",
        "    # percentage with salary >50K\n",
        "    higher_education_rich = round(df.loc[((df['education'] == 'Bachelors') \n",
        "                              | (df['education'] =='Masters') \n",
        "                              | (df['education'] =='Doctorate')) \n",
        "                              & (df['salary'] == '>50K')].shape[0] \n",
        "                              / df.loc[(df['education'] == 'Bachelors') \n",
        "                              | (df['education'] =='Masters') \n",
        "                              | (df['education'] =='Doctorate')].shape[0] * 100,1)\n",
        "    \n",
        "    lower_education_rich = round(df.loc[((df['education'] != 'Bachelors') \n",
        "                              & (df['education'] !='Masters') \n",
        "                              & (df['education'] !='Doctorate')) \n",
        "                              & (df['salary'] == '>50K')].shape[0] \n",
        "                              / df.loc[(df['education'] != 'Bachelors') \n",
        "                              & (df['education'] !='Masters') \n",
        "                              & (df['education'] !='Doctorate')].shape[0] * 100,1)\n",
        "\n",
        "    # What is the minimum number of hours a person works per week (hours-per-week feature)?\n",
        "    min_work_hours = round(df['hours-per-week'].min(),1)\n",
        "\n",
        "    # What percentage of the people who work the minimum number of hours per week have a salary of >50K?\n",
        "    num_min_workers = round(df.loc[df['hours-per-week'] == df['hours-per-week'].min()].shape[0], 1)\n",
        "\n",
        "    rich_percentage = round(df.loc[(df['hours-per-week'] == df['hours-per-week'].min()) \n",
        "                              & (df['salary'] == '>50K')].shape[0] \n",
        "                              / df.loc[df['hours-per-week'] \n",
        "                              == df['hours-per-week'].min()].shape[0] * 100,1)\n",
        "\n",
        "    # What country has the highest percentage of people that earn >50K?\n",
        "    highest_earning_country = (df.loc[df['salary'] == '>50K'].groupby('native-country')['salary'].count() \n",
        "                                / df.groupby('native-country')['salary'].count() * 100).idxmax()\n",
        "    \n",
        "    highest_earning_country_percentage = round((df.loc[df['salary'] == '>50K'].groupby('native-country')['salary'].count() \n",
        "                                                / df.groupby('native-country')['salary'].count() * 100).max(),1)\n",
        "\n",
        "    # Identify the most popular occupation for those who earn >50K in India.\n",
        "    top_IN_occupation = df.loc[(df['native-country'] == 'India') & (df['salary'] == '>50K')]['occupation'].value_counts().idxmax()\n",
        "\n",
        "    # DO NOT MODIFY BELOW THIS LINE\n",
        "\n",
        "    if print_data:\n",
        "        print(\"Number of each race:\\n\", race_count) \n",
        "        print(\"Average age of men:\", average_age_men)\n",
        "        print(f\"Percentage with Bachelors degrees: {percentage_bachelors}%\")\n",
        "        print(f\"Percentage with higher education that earn >50K: {higher_education_rich}%\")\n",
        "        print(f\"Percentage without higher education that earn >50K: {lower_education_rich}%\")\n",
        "        print(f\"Min work time: {min_work_hours} hours/week\")\n",
        "        print(f\"Percentage of rich among those who work fewest hours: {rich_percentage}%\")\n",
        "        print(\"Country with highest percentage of rich:\", highest_earning_country)\n",
        "        print(f\"Highest percentage of rich people in country: {highest_earning_country_percentage}%\")\n",
        "        print(\"Top occupations in India:\", top_IN_occupation)\n",
        "\n",
        "    return {\n",
        "        'race_count': race_count,\n",
        "        'average_age_men': average_age_men,\n",
        "        'percentage_bachelors': percentage_bachelors,\n",
        "        'higher_education_rich': higher_education_rich,\n",
        "        'lower_education_rich': lower_education_rich,\n",
        "        'min_work_hours': min_work_hours,\n",
        "        'rich_percentage': rich_percentage,\n",
        "        'highest_earning_country': highest_earning_country,\n",
        "        'highest_earning_country_percentage':\n",
        "        highest_earning_country_percentage,\n",
        "        'top_IN_occupation': top_IN_occupation\n",
        "    }"
      ],
      "metadata": {
        "id": "lJmDLk4PUS6D"
      },
      "execution_count": 3,
      "outputs": []
    },
    {
      "cell_type": "code",
      "source": [
        "calculate_demographic_data()"
      ],
      "metadata": {
        "colab": {
          "base_uri": "https://localhost:8080/"
        },
        "id": "atqa2m07WbDH",
        "outputId": "b617aa14-e92a-4ad6-f96b-8161d2da823e"
      },
      "execution_count": 4,
      "outputs": [
        {
          "output_type": "stream",
          "name": "stdout",
          "text": [
            "Number of each race:\n",
            " White                 27816\n",
            "Black                  3124\n",
            "Asian-Pac-Islander     1039\n",
            "Amer-Indian-Eskimo      311\n",
            "Other                   271\n",
            "Name: race, dtype: int64\n",
            "Average age of men: 39.4\n",
            "Percentage with Bachelors degrees: 16.4%\n",
            "Percentage with higher education that earn >50K: 46.5%\n",
            "Percentage without higher education that earn >50K: 17.4%\n",
            "Min work time: 1 hours/week\n",
            "Percentage of rich among those who work fewest hours: 10.0%\n",
            "Country with highest percentage of rich: Iran\n",
            "Highest percentage of rich people in country: 41.9%\n",
            "Top occupations in India: Prof-specialty\n"
          ]
        },
        {
          "output_type": "execute_result",
          "data": {
            "text/plain": [
              "{'race_count': White                 27816\n",
              " Black                  3124\n",
              " Asian-Pac-Islander     1039\n",
              " Amer-Indian-Eskimo      311\n",
              " Other                   271\n",
              " Name: race, dtype: int64,\n",
              " 'average_age_men': 39.4,\n",
              " 'percentage_bachelors': 16.4,\n",
              " 'higher_education_rich': 46.5,\n",
              " 'lower_education_rich': 17.4,\n",
              " 'min_work_hours': 1,\n",
              " 'rich_percentage': 10.0,\n",
              " 'highest_earning_country': 'Iran',\n",
              " 'highest_earning_country_percentage': 41.9,\n",
              " 'top_IN_occupation': 'Prof-specialty'}"
            ]
          },
          "metadata": {},
          "execution_count": 4
        }
      ]
    },
    {
      "cell_type": "code",
      "source": [
        "df = pd.read_csv('adult.data.csv')"
      ],
      "metadata": {
        "id": "2aLXRIrYmq9G"
      },
      "execution_count": 7,
      "outputs": []
    },
    {
      "cell_type": "code",
      "source": [
        "race_count = df['race'].value_counts()\n",
        "race_count"
      ],
      "metadata": {
        "colab": {
          "base_uri": "https://localhost:8080/"
        },
        "id": "zxRrh3LiWjgg",
        "outputId": "cd7d9e4c-f4e7-4f95-a687-dec56da042b1"
      },
      "execution_count": 8,
      "outputs": [
        {
          "output_type": "execute_result",
          "data": {
            "text/plain": [
              "White                 27816\n",
              "Black                  3124\n",
              "Asian-Pac-Islander     1039\n",
              "Amer-Indian-Eskimo      311\n",
              "Other                   271\n",
              "Name: race, dtype: int64"
            ]
          },
          "metadata": {},
          "execution_count": 8
        }
      ]
    },
    {
      "cell_type": "code",
      "source": [
        "average_age_men = round(df.loc[df['sex'] == 'Male','age'].mean(),1)\n",
        "average_age_men"
      ],
      "metadata": {
        "colab": {
          "base_uri": "https://localhost:8080/"
        },
        "id": "ZD1I2I2Lmv3i",
        "outputId": "618923d0-c0c7-4f6c-e981-705b72c37044"
      },
      "execution_count": 9,
      "outputs": [
        {
          "output_type": "execute_result",
          "data": {
            "text/plain": [
              "39.4"
            ]
          },
          "metadata": {},
          "execution_count": 9
        }
      ]
    },
    {
      "cell_type": "code",
      "source": [
        "percentage_bachelors = round((df.loc[df['education'] == 'Bachelors',].shape[0]) / (df['education'].shape[0]) * 100,1)\n",
        "percentage_bachelors"
      ],
      "metadata": {
        "colab": {
          "base_uri": "https://localhost:8080/"
        },
        "id": "869dtr2-n5iF",
        "outputId": "7bf9f1ad-f25a-4831-86df-cebc699fce46"
      },
      "execution_count": 10,
      "outputs": [
        {
          "output_type": "execute_result",
          "data": {
            "text/plain": [
              "16.4"
            ]
          },
          "metadata": {},
          "execution_count": 10
        }
      ]
    },
    {
      "cell_type": "code",
      "source": [
        "higher_education = round(df.loc[(df['education'] == 'Bachelors') \n",
        "                              | (df['education'] =='Masters') \n",
        "                              | (df['education'] =='Doctorate')].shape[0] \n",
        "                              / df['education'].shape[0] * 100,1)\n",
        "higher_education"
      ],
      "metadata": {
        "colab": {
          "base_uri": "https://localhost:8080/"
        },
        "id": "Dc5wa-3ErLUP",
        "outputId": "347e99c8-6a23-48e1-a7dc-53088c6e9f50"
      },
      "execution_count": 11,
      "outputs": [
        {
          "output_type": "execute_result",
          "data": {
            "text/plain": [
              "23.0"
            ]
          },
          "metadata": {},
          "execution_count": 11
        }
      ]
    },
    {
      "cell_type": "code",
      "source": [
        "lower_education = round(df.loc[(df['education'] != 'Bachelors') \n",
        "                              & (df['education'] != 'Masters') \n",
        "                              & (df['education'] !='Doctorate')].shape[0] \n",
        "                              / df['education'].shape[0] * 100,1)\n",
        "lower_education"
      ],
      "metadata": {
        "colab": {
          "base_uri": "https://localhost:8080/"
        },
        "id": "u9sMSOyMrPpW",
        "outputId": "b0b505e8-6004-44aa-d578-2b4e11644a9d"
      },
      "execution_count": 12,
      "outputs": [
        {
          "output_type": "execute_result",
          "data": {
            "text/plain": [
              "77.0"
            ]
          },
          "metadata": {},
          "execution_count": 12
        }
      ]
    },
    {
      "cell_type": "code",
      "source": [
        "higher_education_rich = round(df.loc[((df['education'] == 'Bachelors') \n",
        "                              | (df['education'] =='Masters') \n",
        "                              | (df['education'] =='Doctorate')) \n",
        "                              & (df['salary'] == '>50K')].shape[0] \n",
        "                              / df.loc[(df['education'] == 'Bachelors') \n",
        "                              | (df['education'] =='Masters') \n",
        "                              | (df['education'] =='Doctorate')].shape[0] * 100,1)\n",
        "higher_education_rich"
      ],
      "metadata": {
        "colab": {
          "base_uri": "https://localhost:8080/"
        },
        "id": "FQUJNM09rXtR",
        "outputId": "9477cc4d-dbb5-4eff-dc6b-2a8b546ec444"
      },
      "execution_count": 13,
      "outputs": [
        {
          "output_type": "execute_result",
          "data": {
            "text/plain": [
              "46.5"
            ]
          },
          "metadata": {},
          "execution_count": 13
        }
      ]
    },
    {
      "cell_type": "code",
      "source": [
        "lower_education_rich = round(df.loc[((df['education'] != 'Bachelors') \n",
        "                              & (df['education'] !='Masters') \n",
        "                              & (df['education'] !='Doctorate')) \n",
        "                              & (df['salary'] == '>50K')].shape[0] \n",
        "                              / df.loc[(df['education'] != 'Bachelors') \n",
        "                              & (df['education'] !='Masters') \n",
        "                              & (df['education'] !='Doctorate')].shape[0] * 100,1)\n",
        "lower_education_rich"
      ],
      "metadata": {
        "colab": {
          "base_uri": "https://localhost:8080/"
        },
        "id": "X1yhYsMArdcV",
        "outputId": "9657699b-8cc2-455f-bd38-9a1c2ccbecee"
      },
      "execution_count": 14,
      "outputs": [
        {
          "output_type": "execute_result",
          "data": {
            "text/plain": [
              "17.4"
            ]
          },
          "metadata": {},
          "execution_count": 14
        }
      ]
    },
    {
      "cell_type": "code",
      "source": [
        "min_work_hours = round(df['hours-per-week'].min(),1)\n",
        "min_work_hours"
      ],
      "metadata": {
        "colab": {
          "base_uri": "https://localhost:8080/"
        },
        "id": "bJUlgSgwri32",
        "outputId": "ec1f289d-b6b5-4a02-8b2e-4b3fcff9cf9c"
      },
      "execution_count": 15,
      "outputs": [
        {
          "output_type": "execute_result",
          "data": {
            "text/plain": [
              "1"
            ]
          },
          "metadata": {},
          "execution_count": 15
        }
      ]
    },
    {
      "cell_type": "code",
      "source": [
        "num_min_workers = round(df.loc[df['hours-per-week'] == df['hours-per-week'].min()].shape[0], 1)\n",
        "num_min_workers"
      ],
      "metadata": {
        "colab": {
          "base_uri": "https://localhost:8080/"
        },
        "id": "elO_aBALrnjG",
        "outputId": "1bafdbef-ca1e-4b35-bd8b-09124cf9005f"
      },
      "execution_count": 16,
      "outputs": [
        {
          "output_type": "execute_result",
          "data": {
            "text/plain": [
              "20"
            ]
          },
          "metadata": {},
          "execution_count": 16
        }
      ]
    },
    {
      "cell_type": "code",
      "source": [
        "rich_percentage = round(df.loc[(df['hours-per-week'] == df['hours-per-week'].min()) \n",
        "                              & (df['salary'] == '>50K')].shape[0] \n",
        "                              / df.loc[df['hours-per-week'] \n",
        "                              == df['hours-per-week'].min()].shape[0] * 100,1)\n",
        "rich_percentage"
      ],
      "metadata": {
        "colab": {
          "base_uri": "https://localhost:8080/"
        },
        "id": "HVK3cowHrsiQ",
        "outputId": "c733048e-b2f0-464d-9ee0-ee45b1fef9bd"
      },
      "execution_count": 17,
      "outputs": [
        {
          "output_type": "execute_result",
          "data": {
            "text/plain": [
              "10.0"
            ]
          },
          "metadata": {},
          "execution_count": 17
        }
      ]
    },
    {
      "cell_type": "code",
      "source": [
        "highest_earning_country = (df.loc[df['salary'] == '>50K'].groupby('native-country')['salary'].count() \n",
        "                                / df.groupby('native-country')['salary'].count() * 100).idxmax()\n",
        "highest_earning_country"
      ],
      "metadata": {
        "colab": {
          "base_uri": "https://localhost:8080/",
          "height": 35
        },
        "id": "jx8vUxCkrx0z",
        "outputId": "7058a6dd-4633-487f-e9cc-81a6bc88d78a"
      },
      "execution_count": 18,
      "outputs": [
        {
          "output_type": "execute_result",
          "data": {
            "text/plain": [
              "'Iran'"
            ],
            "application/vnd.google.colaboratory.intrinsic+json": {
              "type": "string"
            }
          },
          "metadata": {},
          "execution_count": 18
        }
      ]
    },
    {
      "cell_type": "code",
      "source": [
        "highest_earning_country_percentage = round((df.loc[df['salary'] == '>50K'].groupby('native-country')['salary'].count() \n",
        "                                                / df.groupby('native-country')['salary'].count() * 100).max(),1)\n",
        "highest_earning_country_percentage"
      ],
      "metadata": {
        "colab": {
          "base_uri": "https://localhost:8080/"
        },
        "id": "lakuvIeBsDfU",
        "outputId": "5555a54d-a548-4d71-c622-1069436db24c"
      },
      "execution_count": 19,
      "outputs": [
        {
          "output_type": "execute_result",
          "data": {
            "text/plain": [
              "41.9"
            ]
          },
          "metadata": {},
          "execution_count": 19
        }
      ]
    },
    {
      "cell_type": "code",
      "source": [
        "top_IN_occupation = df.loc[(df['native-country'] == 'India') & (df['salary'] == '>50K')]['occupation'].value_counts().idxmax()\n",
        "top_IN_occupation"
      ],
      "metadata": {
        "colab": {
          "base_uri": "https://localhost:8080/",
          "height": 35
        },
        "id": "tn3IqsUOsRDs",
        "outputId": "2f21b269-d08f-479c-ba12-166986b5c5ef"
      },
      "execution_count": 21,
      "outputs": [
        {
          "output_type": "execute_result",
          "data": {
            "text/plain": [
              "'Prof-specialty'"
            ],
            "application/vnd.google.colaboratory.intrinsic+json": {
              "type": "string"
            }
          },
          "metadata": {},
          "execution_count": 21
        }
      ]
    },
    {
      "cell_type": "code",
      "source": [],
      "metadata": {
        "id": "mLBRLYqussXl"
      },
      "execution_count": null,
      "outputs": []
    }
  ]
}