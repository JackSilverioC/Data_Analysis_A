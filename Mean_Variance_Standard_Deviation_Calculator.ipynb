{
  "nbformat": 4,
  "nbformat_minor": 0,
  "metadata": {
    "colab": {
      "provenance": [],
      "authorship_tag": "ABX9TyPbS7a6YnjsJchE4kPO1o3D",
      "include_colab_link": true
    },
    "kernelspec": {
      "name": "python3",
      "display_name": "Python 3"
    },
    "language_info": {
      "name": "python"
    }
  },
  "cells": [
    {
      "cell_type": "markdown",
      "metadata": {
        "id": "view-in-github",
        "colab_type": "text"
      },
      "source": [
        "<a href=\"https://colab.research.google.com/github/UsserJack/Data_Analysis_A/blob/main/Mean_Variance_Standard_Deviation_Calculator.ipynb\" target=\"_parent\"><img src=\"https://colab.research.google.com/assets/colab-badge.svg\" alt=\"Open In Colab\"/></a>"
      ]
    },
    {
      "cell_type": "markdown",
      "source": [
        "Crear una función llamada **calculate()** que use Numpy para generar la media, la varianza, la desviación estándar, el máximo, el mínimo y la suma de las filas, columnas y elementos en una matriz de 3 x 3.\n",
        "\n",
        "La entrada de la función debe ser una lista que contenga 9 dígitos. La función debe convertir la lista en una matriz Numpy de 3 x 3 y luego devolver un diccionario que contenga la media, la varianza, la desviación estándar, el máximo, el mínimo y la suma a lo largo de ambos ejes y para la matriz plana.\n",
        "\n",
        "El diccionario devuelto debe seguir este formato:\n",
        "\n",
        "```\n",
        "{\n",
        "  'mean': [axis1, axis2, flattened],\n",
        "  'variance': [axis1, axis2, flattened],\n",
        "  'standard deviation': [axis1, axis2, flattened],\n",
        "  'max': [axis1, axis2, flattened],\n",
        "  'min': [axis1, axis2, flattened],\n",
        "  'sum': [axis1, axis2, flattened]\n",
        "}\n",
        "```\n",
        "Si se pasa una lista que contiene menos de 9 elementos a la función, debería generar una excepción ValueError con el mensaje: \"List must contain nine numbers.\". Los valores en el diccionario devuelto deben ser listas y no matrices Numpy.\n",
        "\n",
        "Por ejemplo, calculate([0,1,2,3,4,5,6,7,8]) debería devolver:\n",
        "```\n",
        "{\n",
        "  'mean': [[3.0, 4.0, 5.0], [1.0, 4.0, 7.0], 4.0],\n",
        "  'variance': [[6.0, 6.0, 6.0], [0.6666666666666666, 0.6666666666666666, 0.6666666666666666], 6.666666666666667],\n",
        "  'standard deviation': [[2.449489742783178, 2.449489742783178, 2.449489742783178], [0.816496580927726, 0.816496580927726, 0.816496580927726], 2.581988897471611],\n",
        "  'max': [[6, 7, 8], [2, 5, 8], 8],\n",
        "  'min': [[0, 1, 2], [0, 3, 6], 0],\n",
        "  'sum': [[9, 12, 15], [3, 12, 21], 36]\n",
        "}\n",
        "```"
      ],
      "metadata": {
        "id": "jefLzz1nKIic"
      }
    },
    {
      "cell_type": "code",
      "execution_count": 1,
      "metadata": {
        "id": "dfFe62I0GIgL"
      },
      "outputs": [],
      "source": [
        "import numpy as np\n",
        "\n",
        "def calculate(list):\n",
        "  if(len(list)!=9):\n",
        "    print(\"List must contain nine numbers.\")\n",
        "  else:\n",
        "    a = np.array(list).reshape(3, 3)\n",
        "    calculations = {\n",
        "      \"mean\": [a.mean(axis = 0).tolist(), a.mean(axis = 1).tolist(), a.mean()],\n",
        "      \"variance\": [a.var(axis = 0).tolist(), a.var(axis = 1).tolist(), a.var()],\n",
        "      \"standard deviation\": [a.std(axis = 0).tolist(), a.std(axis = 1).tolist(), a.std()],\n",
        "      \"max\": [a.max(axis = 0).tolist(), a.max(axis = 1).tolist(), a.max()],\n",
        "      \"min\": [a.min(axis = 0).tolist(),a.min(axis = 1).tolist(), a.min()],\n",
        "      \"sum\": [a.sum(axis = 0).tolist(),a.sum(axis = 1).tolist(), a.sum()],\n",
        "    }\n",
        "    return calculations"
      ]
    },
    {
      "cell_type": "code",
      "source": [
        "calculate([0,1,2,3,4,5,6,7,8])"
      ],
      "metadata": {
        "colab": {
          "base_uri": "https://localhost:8080/"
        },
        "id": "R-BlylgmK6Ds",
        "outputId": "d352d686-4ed6-4fad-9289-c9679f535dae"
      },
      "execution_count": 2,
      "outputs": [
        {
          "output_type": "execute_result",
          "data": {
            "text/plain": [
              "{'mean': [[3.0, 4.0, 5.0], [1.0, 4.0, 7.0], 4.0],\n",
              " 'variance': [[6.0, 6.0, 6.0],\n",
              "  [0.6666666666666666, 0.6666666666666666, 0.6666666666666666],\n",
              "  6.666666666666667],\n",
              " 'standard deviation': [[2.449489742783178,\n",
              "   2.449489742783178,\n",
              "   2.449489742783178],\n",
              "  [0.816496580927726, 0.816496580927726, 0.816496580927726],\n",
              "  2.581988897471611],\n",
              " 'max': [[6, 7, 8], [2, 5, 8], 8],\n",
              " 'min': [[0, 1, 2], [0, 3, 6], 0],\n",
              " 'sum': [[9, 12, 15], [3, 12, 21], 36]}"
            ]
          },
          "metadata": {},
          "execution_count": 2
        }
      ]
    },
    {
      "cell_type": "code",
      "source": [],
      "metadata": {
        "id": "Q29QEqycLAqF"
      },
      "execution_count": null,
      "outputs": []
    }
  ]
}